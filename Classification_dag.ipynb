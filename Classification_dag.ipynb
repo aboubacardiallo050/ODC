{
  "nbformat": 4,
  "nbformat_minor": 0,
  "metadata": {
    "colab": {
      "provenance": [],
      "authorship_tag": "ABX9TyPaRsvOHTQxV5F1zPWhQb94",
      "include_colab_link": true
    },
    "kernelspec": {
      "name": "python3",
      "display_name": "Python 3"
    },
    "language_info": {
      "name": "python"
    }
  },
  "cells": [
    {
      "cell_type": "markdown",
      "metadata": {
        "id": "view-in-github",
        "colab_type": "text"
      },
      "source": [
        "<a href=\"https://colab.research.google.com/github/aboubacardiallo050/ODC/blob/main/Classification_dag.ipynb\" target=\"_parent\"><img src=\"https://colab.research.google.com/assets/colab-badge.svg\" alt=\"Open In Colab\"/></a>"
      ]
    },
    {
      "cell_type": "code",
      "execution_count": null,
      "metadata": {
        "id": "8MIQCuXEBQg_"
      },
      "outputs": [],
      "source": [
        "from airflow import DAG\n",
        "from airflow.operators.python import PythonOperator\n",
        "from datetime import datetime\n",
        "from sklearn.datasets import load_iris\n",
        "from sklearn.model_selection import train_test_split\n",
        "from sklearn.ensemble import RandomForestClassifier\n",
        "from sklearn.metrics import accuracy_score\n",
        "import pandas as pd\n",
        "import logging\n",
        "import tempfile\n",
        "from airflow.exceptions import AirflowException\n",
        "\n",
        "default_args = {\n",
        "    'start_date': datetime(2023, 1, 1),\n",
        "    'catchup': False,\n",
        "    'params': {\n",
        "        'test_size': 0.2,\n",
        "        'random_state': 42\n",
        "    }\n",
        "}\n",
        "\n",
        "def load_and_split(**context):\n",
        "    params = context['params']\n",
        "    iris = load_iris(as_frame=True)\n",
        "    X_train, X_test, y_train, y_test = train_test_split(\n",
        "        iris.data, iris.target,\n",
        "        test_size=params['test_size'],\n",
        "        random_state=params['random_state']\n",
        "    )\n",
        "\n",
        "    with tempfile.TemporaryDirectory() as tmp_dir:\n",
        "        X_train.to_csv(f'{tmp_dir}/X_train.csv', index=False)\n",
        "        X_test.to_csv(f'{tmp_dir}/X_test.csv', index=False)\n",
        "        pd.DataFrame(y_train).to_csv(f'{tmp_dir}/y_train.csv', index=False)\n",
        "        pd.DataFrame(y_test).to_csv(f'{tmp_dir}/y_test.csv', index=False)\n",
        "        return tmp_dir\n",
        "\n",
        "def train_and_evaluate(tmp_dir, **context):\n",
        "    try:\n",
        "        X_train = pd.read_csv(f'{tmp_dir}/X_train.csv')\n",
        "        X_test = pd.read_csv(f'{tmp_dir}/X_test.csv')\n",
        "        y_train = pd.read_csv(f'{tmp_dir}/y_train.csv').values.ravel()\n",
        "        y_test = pd.read_csv(f'{tmp_dir}/y_test.csv').values.ravel()\n",
        "\n",
        "        model = RandomForestClassifier()\n",
        "        model.fit(X_train, y_train)\n",
        "        predictions = model.predict(X_test)\n",
        "        acc = accuracy_score(y_test, predictions)\n",
        "\n",
        "        logging.info(f'Accuracy: {acc:.4f}')\n",
        "        context['ti'].xcom_push(key='accuracy', value=acc)\n",
        "    except Exception as e:\n",
        "        logging.error(f\"Training failed: {str(e)}\")\n",
        "        raise AirflowException(\"Model training error\")\n",
        "\n",
        "with DAG('iris_classification',\n",
        "         schedule_interval=None,\n",
        "         default_args=default_args,\n",
        "         description='Classification avec Iris et scikit-learn',\n",
        "         tags=['ml'],\n",
        "         doc_md=\"\"\"## DAG de Classification Iris\"\"\") as dag:\n",
        "\n",
        "    load_task = PythonOperator(\n",
        "        task_id='load_and_split_data',\n",
        "        python_callable=load_and_split,\n",
        "        provide_context=True\n",
        "    )\n",
        "\n",
        "    train_task = PythonOperator(\n",
        "        task_id='train_model',\n",
        "        python_callable=train_and_evaluate,\n",
        "        op_kwargs={'tmp_dir': \"{{ ti.xcom_pull(task_ids='load_and_split_data') }}\"},\n",
        "        provide_context=True\n",
        "    )\n",
        "\n",
        "    load_task >> train_task"
      ]
    }
  ]
}